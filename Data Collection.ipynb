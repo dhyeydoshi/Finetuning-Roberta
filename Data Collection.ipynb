{
 "cells": [
  {
   "metadata": {},
   "cell_type": "markdown",
   "source": "## Data Collection",
   "id": "d94d2ab8c050d884"
  },
  {
   "metadata": {},
   "cell_type": "code",
   "outputs": [],
   "execution_count": null,
   "source": [
    "from tqdm.auto import tqdm\n",
    "from collections import Counter\n",
    "import json"
   ],
   "id": "12337de8a3a17790"
  },
  {
   "cell_type": "code",
   "execution_count": null,
   "id": "initial_id",
   "metadata": {
    "collapsed": true
   },
   "outputs": [],
   "source": [
    "from datasets import load_dataset, concatenate_datasets\n",
    "\n",
    "\n",
    "# Load the \"Health and Household\" category\n",
    "Health_and_Household = load_dataset(\"McAuley-Lab/Amazon-Reviews-2023\", \"raw_review_Health_and_Household\", split='full')\n",
    "\n",
    "# Load the \"Health and Personal Care\" category\n",
    "health_personal_care = load_dataset(\"McAuley-Lab/Amazon-Reviews-2023\", \"raw_review_Health_and_Personal_Care\", split='full')\n",
    "\n",
    "# Concatenate both datasets\n",
    "dataset = concatenate_datasets([Health_and_Household, health_personal_care])\n",
    "\n",
    "dataset"
   ]
  },
  {
   "metadata": {},
   "cell_type": "code",
   "outputs": [],
   "execution_count": null,
   "source": [
    "Health_and_Household_MetaData = load_dataset(\"McAuley-Lab/Amazon-Reviews-2023\", \"raw_meta_Health_and_Household\", split=\"full\", trust_remote_code=True)\n",
    "health_personal_care_meta = load_dataset(\"McAuley-Lab/Amazon-Reviews-2023\", \"raw_meta_Health_and_Personal_Care\", split='full',  trust_remote_code=True)"
   ],
   "id": "d20c7e9860d8e4ef"
  },
  {
   "metadata": {},
   "cell_type": "code",
   "outputs": [],
   "execution_count": null,
   "source": "Health_and_Household[0]",
   "id": "14ab120c453050c6"
  },
  {
   "metadata": {},
   "cell_type": "code",
   "outputs": [],
   "execution_count": null,
   "source": "Health_and_Household_MetaData[0]",
   "id": "b88720de654c008f"
  },
  {
   "metadata": {},
   "cell_type": "code",
   "outputs": [],
   "execution_count": null,
   "source": [
    "# Define keywords for title and categories\n",
    "title_keywords = ['lavender', 'herbal', 'stress', 'anxiety', 'ashwagandha', 'chamomile']\n",
    "category_keywords = ['vitamin', 'supplement']\n",
    "\n",
    "# Filter items based on title and categories\n",
    "metadata_dict = {\n",
    "    item['parent_asin']: item\n",
    "    for item in tqdm(Health_and_Household_MetaData, desc=\"Processing Items\")\n",
    "    if (\n",
    "        # Check if any keyword is in the title (case insensitive)\n",
    "            any(keyword in item['title'].lower() for keyword in title_keywords)\n",
    "            # OR check if 'vitamin' or 'supplement' is in any of the item's categories\n",
    "            or any(keyword in category.lower() for category in item.get('categories', []) for keyword in category_keywords)\n",
    "    )\n",
    "}"
   ],
   "id": "6009b22f256a45f1"
  },
  {
   "metadata": {},
   "cell_type": "code",
   "outputs": [],
   "execution_count": null,
   "source": [
    "# # Sample list\n",
    "# my_list = ['Health & Household',\n",
    "#    'Vitamins, Minerals & Supplements',\n",
    "#    'Vitamins',\n",
    "#    'Multivitamins']\n",
    "\n",
    "# index_values = [\n",
    "#     index\n",
    "#     for index, item in enumerate(tqdm(Health_and_Household_MetaData, desc='Cat'))\n",
    "#     if item.get('main_category') and 'health' in item['main_category'].lower()\n",
    "# ]\n",
    "\n",
    "# print(index_values)\n",
    "#len(index_values)\n"
   ],
   "id": "73715c6e6682237a"
  },
  {
   "metadata": {},
   "cell_type": "code",
   "outputs": [],
   "execution_count": null,
   "source": [
    "# metadata_p_dict = {\n",
    "#     item['parent_asin']: item \n",
    "#     for item in tqdm(health_personal_care_meta, desc=\"Processing Items\")\n",
    "#     if 'lavender' in item['title'].lower() or 'herbal' in item['title'].lower()\n",
    "# }"
   ],
   "id": "51a7d240f689a80c"
  },
  {
   "metadata": {},
   "cell_type": "code",
   "outputs": [],
   "execution_count": null,
   "source": [
    "first_key = next(iter(metadata_dict))\n",
    "first_value = metadata_dict[first_key]\n",
    "first_pair = (first_key, first_value)\n",
    "first_pair"
   ],
   "id": "9475bd41c3a389aa"
  },
  {
   "metadata": {},
   "cell_type": "code",
   "outputs": [],
   "execution_count": null,
   "source": [
    "# Filter and enrich reviews with metadata information\n",
    "filtered_reviews = [\n",
    "    {\n",
    "        **review,\n",
    "        'main_category': metadata_dict[review['parent_asin']]['main_category'],\n",
    "        'average_rating': metadata_dict[review['parent_asin']]['average_rating'],\n",
    "        'product_title': metadata_dict[review['parent_asin']]['title'],\n",
    "    }\n",
    "    for review in tqdm(Health_and_Household, desc=\"Filtering and Enriching Reviews\")\n",
    "    if review['parent_asin'] in metadata_dict\n",
    "]"
   ],
   "id": "62005ed4d9acf869"
  },
  {
   "metadata": {},
   "cell_type": "code",
   "outputs": [],
   "execution_count": null,
   "source": [
    "\n",
    "ratings = [review['rating'] for review in filtered_reviews]\n",
    "rating_counter = Counter(ratings)\n",
    "\n",
    "print(rating_counter)"
   ],
   "id": "8b6e546ed5d19e69"
  },
  {
   "metadata": {},
   "cell_type": "code",
   "outputs": [],
   "execution_count": null,
   "source": [
    "\n",
    "# Specify the filename to save the data\n",
    "filename = 'amazon_dataset.json'\n",
    "\n",
    "# Save the list of dictionaries to a JSON file\n",
    "with open(filename, 'w') as file:\n",
    "    json.dump(filtered_reviews, file, indent=4)\n",
    "\n",
    "print(f\"Data saved to {filename}.\")"
   ],
   "id": "3c20b802e2cda547"
  }
 ],
 "metadata": {
  "kernelspec": {
   "display_name": "Python 3",
   "language": "python",
   "name": "python3"
  },
  "language_info": {
   "codemirror_mode": {
    "name": "ipython",
    "version": 2
   },
   "file_extension": ".py",
   "mimetype": "text/x-python",
   "name": "python",
   "nbconvert_exporter": "python",
   "pygments_lexer": "ipython2",
   "version": "2.7.6"
  }
 },
 "nbformat": 4,
 "nbformat_minor": 5
}
